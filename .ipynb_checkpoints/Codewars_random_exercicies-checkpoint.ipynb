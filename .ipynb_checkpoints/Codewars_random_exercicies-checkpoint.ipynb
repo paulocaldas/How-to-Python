{
 "cells": [
  {
   "cell_type": "markdown",
   "metadata": {},
   "source": [
    "**Write a Function that Transforms each Letter in a Text by the correspondent text in the Alphabet**"
   ]
  },
  {
   "cell_type": "code",
   "execution_count": 34,
   "metadata": {},
   "outputs": [],
   "source": [
    "def alpha_to_numb(text):\n",
    "    import string\n",
    "    \n",
    "    text = text.lower()\n",
    "    text_in_numbers = []\n",
    "    for l in text:\n",
    "        for i, letter in enumerate(string.ascii_lowercase):\n",
    "             if l in letter:\n",
    "                    text_in_numbers.append(i)\n",
    "    return text_in_numbers"
   ]
  },
  {
   "cell_type": "code",
   "execution_count": 75,
   "metadata": {},
   "outputs": [
    {
     "data": {
      "text/plain": [
       "[6, 14, 14, 3, 9, 14, 1, 15, 4, 14, 15, 11, 4]"
      ]
     },
     "execution_count": 75,
     "metadata": {},
     "output_type": "execute_result"
    }
   ],
   "source": [
    "alpha_to_numb('Good Job People!')"
   ]
  },
  {
   "cell_type": "markdown",
   "metadata": {},
   "source": [
    "**Write a Function that finds the next perfect square root if the inpout is a perfect square root, otherwise returns -1**"
   ]
  },
  {
   "cell_type": "code",
   "execution_count": 86,
   "metadata": {},
   "outputs": [],
   "source": [
    "import numpy as np\n",
    "\n",
    "def find_next_square(n):\n",
    "    if  np.sqrt(n) == np.floor(np.sqrt(n)):\n",
    "        while True:\n",
    "            n += 1\n",
    "            #print(n)\n",
    "            if  np.sqrt(n) == np.floor(np.sqrt(n)):\n",
    "                break\n",
    "        return n\n",
    "    else:\n",
    "        return -1"
   ]
  },
  {
   "cell_type": "code",
   "execution_count": 89,
   "metadata": {},
   "outputs": [
    {
     "data": {
      "text/plain": [
       "144"
      ]
     },
     "execution_count": 89,
     "metadata": {},
     "output_type": "execute_result"
    }
   ],
   "source": [
    "find_next_square(121)"
   ]
  }
 ],
 "metadata": {
  "kernelspec": {
   "display_name": "Python 3",
   "language": "python",
   "name": "python3"
  },
  "language_info": {
   "codemirror_mode": {
    "name": "ipython",
    "version": 3
   },
   "file_extension": ".py",
   "mimetype": "text/x-python",
   "name": "python",
   "nbconvert_exporter": "python",
   "pygments_lexer": "ipython3",
   "version": "3.6.8"
  }
 },
 "nbformat": 4,
 "nbformat_minor": 2
}
